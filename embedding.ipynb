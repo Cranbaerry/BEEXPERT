{
 "cells": [
  {
   "cell_type": "markdown",
   "metadata": {},
   "source": [
    "Import libraries"
   ]
  },
  {
   "cell_type": "code",
   "execution_count": 7,
   "metadata": {},
   "outputs": [],
   "source": [
    "from langchain_community.document_loaders import PyMuPDFLoader\n",
    "from langchain.text_splitter import RecursiveCharacterTextSplitter\n",
    "from langchain_huggingface import HuggingFaceEmbeddings\n",
    "from langchain_community.vectorstores import SupabaseVectorStore\n",
    "\n",
    "import os\n",
    "from dotenv import load_dotenv\n",
    "from supabase.client import Client, create_client"
   ]
  },
  {
   "cell_type": "markdown",
   "metadata": {},
   "source": [
    "Load the PDF file"
   ]
  },
  {
   "cell_type": "code",
   "execution_count": 2,
   "metadata": {},
   "outputs": [],
   "source": [
    "loader = PyMuPDFLoader(\"Algebra-and-Trigonometry-2e-WEB.pdf\", extract_images=True)\n",
    "pages = loader.load()"
   ]
  },
  {
   "cell_type": "code",
   "execution_count": 3,
   "metadata": {},
   "outputs": [
    {
     "data": {
      "text/plain": [
       "'Pedagogical Foundations and Features\\nLearning Objectives\\nEach chapter is divided into multiple sections (or modules), each of which is organized around a set of learning\\nobjectives. The learning objectives are listed explicitly at the beginning of each section and are the focal point of every\\ninstructional element\\nNarrative text\\nNarrative text is used to introduce key concepts, terms, and definitions, to provide real-world context, and to provide\\ntransitions between topics and examples. Throughout this book, we rely on a few basic conventions to highlight the\\nmost important ideas:\\n•\\nKey terms are boldfaced, typically when first introduced and/or when formally defined.\\n•\\nKey concepts and definitions are called out in a blue box for easy reference.\\nExamples\\nEach learning objective is supported by one or more worked examples, that demonstrate the problem-solving\\napproaches that students must master. The multiple Examples model different approaches to the same type of problem,\\nor introduce similar problems of increasing complexity.\\nAll Examples follow a simple two- or three-part format. The question clearly lays out a mathematical problem to solve.\\nThe Solution walks through the steps, usually providing context for the approach—in other words, why the instructor is\\nsolving the problem in a specific manner. Finally, the Analysis (for select Examples) reflects on the broader implications\\nof the Solution just shown. Examples are followed by a Try It question, as explained below.\\nFigures\\nAlgebra and Trigonometry 2e contains more than 2000 figures and illustrations, the vast majority of which are graphs\\nand diagrams. Art throughout the text adheres to a clear, understated style, drawing the eye to the most important\\ninformation in each figure while minimizing visual distractions. Color contrast is employed with discretion to distinguish\\nbetween the different functions or features of a graph.\\nSupporting Features\\nSeveral elements contribute to and check understanding.\\n•\\nA “How To” is a list of steps necessary to solve a certain type of problem. A How To typically precedes an Example\\nthat proceeds to demonstrate the steps in action.\\n•\\nA “Try It” exercise immediately follows an Example or a set of related Examples, providing the student with an\\nimmediate opportunity to solve a similar problem. In the PDF and the Web View version of the text, answers to the\\nTry It exercises are located in the Answer Key.\\n•\\nA Q&A may appear at any point in the narrative, but most often follows an Example. This feature pre-empts\\nmisconceptions by posing a commonly asked yes/no question, followed by a detailed answer and explanation.\\n•\\nThe “Media” icon appears at the conclusion of each section, just prior to the Section Exercises. This icon marks a list\\nPreface\\n3\\ny\\ny=x²+4x+3\\nf(x) =5x² + 1\\n8\\n(h,k+a)\\n8\\n/\\n(h,k+c)\\n6\\n6\\n(1,6)\\n5\\n(h-b,k)\\n(h+b,k)\\n5\\nMajor\\nX=\\n4\\n4\\naxis\\n3\\n(0, 1)\\nf-(x)=3x-1\\n(h.k)\\n2\\n5\\n(6, 1)\\nMinor\\naxis\\n6-5-4\\n4321\\n0\\n7\\n2\\n-2_-111o\\n3\\n4\\n5\\n6\\n7\\n1\\nx-intercepts\\n(1.0)\\n2\\n2\\nvertex\\n3\\n3\\nAxisof symmetry\\n(h,k-c)\\n4\\n(h,k-a)\\n4\\n5'"
      ]
     },
     "execution_count": 3,
     "metadata": {},
     "output_type": "execute_result"
    }
   ],
   "source": [
    "pages[12].page_content"
   ]
  },
  {
   "cell_type": "markdown",
   "metadata": {},
   "source": [
    "Split text into smaller chunks"
   ]
  },
  {
   "cell_type": "code",
   "execution_count": 4,
   "metadata": {},
   "outputs": [],
   "source": [
    "full_text = \"\"\n",
    "\n",
    "for page in pages:\n",
    "    full_text += page.page_content\n",
    "\n",
    "text_splitter = RecursiveCharacterTextSplitter(\n",
    "    chunk_size = 1000,\n",
    "    chunk_overlap = 200,\n",
    "    length_function = len\n",
    ")\n",
    "\n",
    "chunks = text_splitter.split_text(text=full_text)"
   ]
  },
  {
   "cell_type": "markdown",
   "metadata": {},
   "source": [
    "Embedding\n",
    "\n",
    "https://python.langchain.com/v0.2/docs/integrations/vectorstores/supabase/"
   ]
  },
  {
   "cell_type": "code",
   "execution_count": 5,
   "metadata": {},
   "outputs": [
    {
     "name": "stderr",
     "output_type": "stream",
     "text": [
      "c:\\Users\\angel\\OneDrive\\Desktop\\Binus\\Semester 7\\tutor-ai\\.venv\\Lib\\site-packages\\sentence_transformers\\cross_encoder\\CrossEncoder.py:11: TqdmWarning: IProgress not found. Please update jupyter and ipywidgets. See https://ipywidgets.readthedocs.io/en/stable/user_install.html\n",
      "  from tqdm.autonotebook import tqdm, trange\n"
     ]
    }
   ],
   "source": [
    "model_name = \"mixedbread-ai/mxbai-embed-large-v1\"\n",
    "model_kwargs = {'device': 'cpu'}\n",
    "\n",
    "hf = HuggingFaceEmbeddings(\n",
    "    model_name=model_name,\n",
    "    model_kwargs=model_kwargs\n",
    ")"
   ]
  },
  {
   "cell_type": "code",
   "execution_count": 6,
   "metadata": {},
   "outputs": [],
   "source": [
    "load_dotenv()\n",
    "\n",
    "PUBLIC_SUPABASE_URL = os.getenv('NEXT_PUBLIC_SUPABASE_URL')\n",
    "PUBLIC_SUPABASE_ANON_KEY = os.getenv('NEXT_PUBLIC_SUPABASE_ANON_KEY')\n",
    "supabase: Client = create_client(PUBLIC_SUPABASE_URL, PUBLIC_SUPABASE_ANON_KEY)"
   ]
  },
  {
   "cell_type": "code",
   "execution_count": 10,
   "metadata": {},
   "outputs": [],
   "source": [
    "# vector_store = SupabaseVectorStore.from_texts(\n",
    "#     chunks,\n",
    "#     embedding=hf,\n",
    "#     client=supabase,\n",
    "#     table_name=\"documents\",\n",
    "#     query_name=\"match_documents\",\n",
    "#     chunk_size=512\n",
    "# )\n",
    "\n",
    "# If you already have documents with embeddings in your database, simply instantiate a new SupabaseVectorStore directly:\n",
    "vector_store = SupabaseVectorStore(\n",
    "    embedding=hf,\n",
    "    client=supabase,\n",
    "    table_name=\"documents\",\n",
    "    query_name=\"match_documents\",\n",
    ")"
   ]
  }
 ],
 "metadata": {
  "kernelspec": {
   "display_name": ".venv",
   "language": "python",
   "name": "python3"
  },
  "language_info": {
   "codemirror_mode": {
    "name": "ipython",
    "version": 3
   },
   "file_extension": ".py",
   "mimetype": "text/x-python",
   "name": "python",
   "nbconvert_exporter": "python",
   "pygments_lexer": "ipython3",
   "version": "3.11.3"
  }
 },
 "nbformat": 4,
 "nbformat_minor": 2
}
